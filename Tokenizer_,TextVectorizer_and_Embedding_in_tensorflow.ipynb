{
  "nbformat": 4,
  "nbformat_minor": 0,
  "metadata": {
    "colab": {
      "provenance": [],
      "authorship_tag": "ABX9TyMgnWzw2dSjEsspe0mHdEYC",
      "include_colab_link": true
    },
    "kernelspec": {
      "name": "python3",
      "display_name": "Python 3"
    },
    "language_info": {
      "name": "python"
    }
  },
  "cells": [
    {
      "cell_type": "markdown",
      "metadata": {
        "id": "view-in-github",
        "colab_type": "text"
      },
      "source": [
        "<a href=\"https://colab.research.google.com/github/lambhua/Deep-Learning--tensorflow-NLP/blob/main/Tokenizer_%2CTextVectorizer_and_Embedding_in_tensorflow.ipynb\" target=\"_parent\"><img src=\"https://colab.research.google.com/assets/colab-badge.svg\" alt=\"Open In Colab\"/></a>"
      ]
    },
    {
      "cell_type": "markdown",
      "source": [
        "# **Most Important step in deep learning for nlp tasks is Vectorization of text and embedding .This notebook tries to show these steps very simply **"
      ],
      "metadata": {
        "id": "XxVyGTgW3B_s"
      }
    },
    {
      "cell_type": "code",
      "execution_count": 1,
      "metadata": {
        "id": "cz919QTNMvLP"
      },
      "outputs": [],
      "source": [
        "import nltk\n",
        "import numpy\n",
        "import tensorflow as tf\n",
        "from tensorflow.keras.preprocessing.text import Tokenizer\n",
        "from tensorflow.keras.preprocessing.sequence import pad_sequences"
      ]
    },
    {
      "cell_type": "code",
      "source": [
        "tokens=[\"My name anoop\",\"I am 25 years old\"] # Example strings to preprocess\n"
      ],
      "metadata": {
        "id": "EayfP-8-Mv6S"
      },
      "execution_count": 24,
      "outputs": []
    },
    {
      "cell_type": "code",
      "source": [
        "nltk.download('punkt')"
      ],
      "metadata": {
        "colab": {
          "base_uri": "https://localhost:8080/"
        },
        "id": "6XNX6Ul1r7Je",
        "outputId": "0b050f2f-1398-4146-aab6-7ea0c81a1c27"
      },
      "execution_count": 4,
      "outputs": [
        {
          "output_type": "stream",
          "name": "stderr",
          "text": [
            "[nltk_data] Downloading package punkt to /root/nltk_data...\n",
            "[nltk_data]   Unzipping tokenizers/punkt.zip.\n"
          ]
        },
        {
          "output_type": "execute_result",
          "data": {
            "text/plain": [
              "True"
            ]
          },
          "metadata": {},
          "execution_count": 4
        }
      ]
    },
    {
      "cell_type": "code",
      "source": [
        "processed=[]\n",
        "for i in tokens:\n",
        "  d=nltk.word_tokenize(i)\n",
        "  processed.append(d)\n"
      ],
      "metadata": {
        "id": "HqZW6wmWMv9o"
      },
      "execution_count": 25,
      "outputs": []
    },
    {
      "cell_type": "code",
      "source": [
        "processed"
      ],
      "metadata": {
        "colab": {
          "base_uri": "https://localhost:8080/"
        },
        "id": "hgkVEOI7Z8uS",
        "outputId": "b38d9da8-58f2-4adc-969d-8271a355e34f"
      },
      "execution_count": 26,
      "outputs": [
        {
          "output_type": "execute_result",
          "data": {
            "text/plain": [
              "[['My', 'name', 'anoop'], ['I', 'am', '25', 'years', 'old']]"
            ]
          },
          "metadata": {},
          "execution_count": 26
        }
      ]
    },
    {
      "cell_type": "code",
      "source": [
        "nltk.download('punkt')"
      ],
      "metadata": {
        "colab": {
          "base_uri": "https://localhost:8080/"
        },
        "id": "ucPvwfFGMwA9",
        "outputId": "69650425-e221-4895-8d18-58ccbc698b21"
      },
      "execution_count": 8,
      "outputs": [
        {
          "output_type": "stream",
          "name": "stderr",
          "text": [
            "[nltk_data] Downloading package punkt to /root/nltk_data...\n",
            "[nltk_data]   Package punkt is already up-to-date!\n"
          ]
        },
        {
          "output_type": "execute_result",
          "data": {
            "text/plain": [
              "True"
            ]
          },
          "metadata": {},
          "execution_count": 8
        }
      ]
    },
    {
      "cell_type": "markdown",
      "source": [
        "**Using tensorflow tokenizer to vectorize text**"
      ],
      "metadata": {
        "id": "tQqoHouO33tx"
      }
    },
    {
      "cell_type": "code",
      "source": [
        "tokenizer=Tokenizer(num_words=20)\n",
        "tokenizer.fit_on_texts(processed)"
      ],
      "metadata": {
        "id": "NdrTFCknMwHT"
      },
      "execution_count": 27,
      "outputs": []
    },
    {
      "cell_type": "code",
      "source": [
        "word_index=tokenizer.word_index\n",
        "word_index"
      ],
      "metadata": {
        "colab": {
          "base_uri": "https://localhost:8080/"
        },
        "id": "KrnVaQ6hMwKQ",
        "outputId": "aed7ae24-c16f-4e2e-981a-8f468f11bd8f"
      },
      "execution_count": 28,
      "outputs": [
        {
          "output_type": "execute_result",
          "data": {
            "text/plain": [
              "{'my': 1,\n",
              " 'name': 2,\n",
              " 'anoop': 3,\n",
              " 'i': 4,\n",
              " 'am': 5,\n",
              " '25': 6,\n",
              " 'years': 7,\n",
              " 'old': 8}"
            ]
          },
          "metadata": {},
          "execution_count": 28
        }
      ]
    },
    {
      "cell_type": "code",
      "source": [
        "sequences=tokenizer.texts_to_sequences(processed)\n",
        "sequences"
      ],
      "metadata": {
        "id": "DrT8dtk8MwNn",
        "colab": {
          "base_uri": "https://localhost:8080/"
        },
        "outputId": "1c4cc7ff-4d14-4d34-e57d-932e9d95afba"
      },
      "execution_count": 42,
      "outputs": [
        {
          "output_type": "execute_result",
          "data": {
            "text/plain": [
              "[[1, 2, 3], [4, 5, 6, 7, 8]]"
            ]
          },
          "metadata": {},
          "execution_count": 42
        }
      ]
    },
    {
      "cell_type": "code",
      "source": [
        "#padding sequences to make them of equal length\n",
        "padded=pad_sequences(sequences,maxlen=6,padding='post')\n",
        "padded     #Vectorized text sequences"
      ],
      "metadata": {
        "id": "Kz_ypdl6MwQx",
        "colab": {
          "base_uri": "https://localhost:8080/"
        },
        "outputId": "0c38fae0-f024-45b2-ccd9-e325ceebc53e"
      },
      "execution_count": 43,
      "outputs": [
        {
          "output_type": "execute_result",
          "data": {
            "text/plain": [
              "array([[1, 2, 3, 0, 0, 0],\n",
              "       [4, 5, 6, 7, 8, 0]], dtype=int32)"
            ]
          },
          "metadata": {},
          "execution_count": 43
        }
      ]
    },
    {
      "cell_type": "markdown",
      "source": [
        "**Using TextVectorization and Embedding layers to Vectorize text**"
      ],
      "metadata": {
        "id": "MCNbYFUf4f0B"
      }
    },
    {
      "cell_type": "code",
      "source": [
        "from tensorflow.keras.models import Sequential\n",
        "from tensorflow.keras.layers import TextVectorization,Embedding,Dropout,Conv1D,GlobalAveragePooling1D"
      ],
      "metadata": {
        "id": "oyVlOUB4MwWw"
      },
      "execution_count": 31,
      "outputs": []
    },
    {
      "cell_type": "code",
      "source": [
        "vocab=[]\n",
        "for i in text:\n",
        "  d=nltk.word_tokenize(i)\n",
        "  vocab=vocab+d\n"
      ],
      "metadata": {
        "id": "VY7TIx9iMwgR"
      },
      "execution_count": 37,
      "outputs": []
    },
    {
      "cell_type": "code",
      "source": [
        "text=[\"My name anoop\",\"I am 25 years old\"]\n",
        "input_dim=len(vocab)\n",
        "input_dim"
      ],
      "metadata": {
        "colab": {
          "base_uri": "https://localhost:8080/"
        },
        "id": "jc0ic52HMwc6",
        "outputId": "6a42e746-5772-4379-db9f-b26983f1a0f5"
      },
      "execution_count": 39,
      "outputs": [
        {
          "output_type": "execute_result",
          "data": {
            "text/plain": [
              "8"
            ]
          },
          "metadata": {},
          "execution_count": 39
        }
      ]
    },
    {
      "cell_type": "code",
      "source": [
        "vocab"
      ],
      "metadata": {
        "colab": {
          "base_uri": "https://localhost:8080/"
        },
        "id": "BR3KYzl_ohZZ",
        "outputId": "1c312935-1271-4d22-d9c5-e2a87d0279b2"
      },
      "execution_count": 38,
      "outputs": [
        {
          "output_type": "execute_result",
          "data": {
            "text/plain": [
              "['My', 'name', 'anoop', 'I', 'am', '25', 'years', 'old']"
            ]
          },
          "metadata": {},
          "execution_count": 38
        }
      ]
    },
    {
      "cell_type": "code",
      "source": [
        "text=tf.convert_to_tensor(text)\n",
        "text"
      ],
      "metadata": {
        "id": "kRkqU1LA0kHd",
        "colab": {
          "base_uri": "https://localhost:8080/"
        },
        "outputId": "2e72cf2a-ab8f-46e6-ade4-7365135c13cd"
      },
      "execution_count": 41,
      "outputs": [
        {
          "output_type": "execute_result",
          "data": {
            "text/plain": [
              "<tf.Tensor: shape=(2,), dtype=string, numpy=array([b'My name anoop', b'I am 25 years old'], dtype=object)>"
            ]
          },
          "metadata": {},
          "execution_count": 41
        }
      ]
    },
    {
      "cell_type": "code",
      "source": [
        "model=Sequential()\n",
        "model.add(tf.keras.Input(shape=(1,), dtype=tf.string))\n",
        "model.add(TextVectorization(max_tokens=1000, standardize='lower_and_strip_punctuation', split='whitespace', output_mode='int', output_sequence_length=None, pad_to_max_tokens=False, vocabulary=vocab))\n",
        "model.add(Embedding(input_dim=30, output_dim=3,input_length=4))\n",
        "model.add(Dropout(.2))\n",
        "model.add(Conv1D(64,3))\n",
        "model.add(GlobalAveragePooling1D())\n"
      ],
      "metadata": {
        "id": "m2s63S-kMwZ4"
      },
      "execution_count": 49,
      "outputs": []
    },
    {
      "cell_type": "code",
      "source": [
        "model.compile('adam','mse')"
      ],
      "metadata": {
        "id": "khryOrnUNMRk"
      },
      "execution_count": 50,
      "outputs": []
    },
    {
      "cell_type": "code",
      "source": [
        "model.summary()"
      ],
      "metadata": {
        "colab": {
          "base_uri": "https://localhost:8080/"
        },
        "id": "ddHX4rN1vq-g",
        "outputId": "65cf7654-34bd-4d66-ef6b-69f983fce747"
      },
      "execution_count": 51,
      "outputs": [
        {
          "output_type": "stream",
          "name": "stdout",
          "text": [
            "Model: \"sequential_4\"\n",
            "_________________________________________________________________\n",
            " Layer (type)                Output Shape              Param #   \n",
            "=================================================================\n",
            " text_vectorization_1 (Text  (None, None)              0         \n",
            " Vectorization)                                                  \n",
            "                                                                 \n",
            " embedding (Embedding)       (None, None, 3)           90        \n",
            "                                                                 \n",
            " dropout (Dropout)           (None, None, 3)           0         \n",
            "                                                                 \n",
            " conv1d (Conv1D)             (None, None, 64)          640       \n",
            "                                                                 \n",
            " global_average_pooling1d (  (None, 64)                0         \n",
            " GlobalAveragePooling1D)                                         \n",
            "                                                                 \n",
            "=================================================================\n",
            "Total params: 730 (2.85 KB)\n",
            "Trainable params: 730 (2.85 KB)\n",
            "Non-trainable params: 0 (0.00 Byte)\n",
            "_________________________________________________________________\n"
          ]
        }
      ]
    },
    {
      "cell_type": "code",
      "source": [
        "pred=model.predict(text)"
      ],
      "metadata": {
        "colab": {
          "base_uri": "https://localhost:8080/"
        },
        "id": "WQJ21tm0vz0w",
        "outputId": "e6b9353a-708c-4141-86ea-9aadb7a8e8ef"
      },
      "execution_count": 52,
      "outputs": [
        {
          "output_type": "stream",
          "name": "stdout",
          "text": [
            "1/1 [==============================] - 0s 212ms/step\n"
          ]
        }
      ]
    },
    {
      "cell_type": "code",
      "source": [
        "pred"
      ],
      "metadata": {
        "colab": {
          "base_uri": "https://localhost:8080/"
        },
        "id": "8nqDl-mY2Uj7",
        "outputId": "0a8f2c34-9e01-43f6-a690-fc93ef8055e3"
      },
      "execution_count": 53,
      "outputs": [
        {
          "output_type": "execute_result",
          "data": {
            "text/plain": [
              "array([[ 4.62712394e-03,  7.26274587e-03, -5.56086237e-03,\n",
              "        -2.90694484e-03,  4.34175134e-03, -2.09856778e-03,\n",
              "         9.47237201e-03,  2.46382365e-03, -1.04862163e-02,\n",
              "        -3.59398103e-03,  4.56065638e-03, -1.16134351e-02,\n",
              "         7.96197346e-05, -2.20770016e-03,  7.99816381e-03,\n",
              "         7.44300010e-03, -3.16967559e-03, -5.79420291e-03,\n",
              "         2.41349146e-04, -7.82136992e-03,  2.42950511e-03,\n",
              "        -4.23364341e-03, -5.74928196e-03, -4.77139838e-03,\n",
              "        -4.17674240e-03,  1.13888802e-02,  4.16937895e-04,\n",
              "        -6.23484328e-03, -2.22637341e-03, -8.30651540e-03,\n",
              "        -2.51025683e-03,  7.48977438e-03,  3.38881812e-03,\n",
              "         3.91091919e-03,  1.84474885e-03, -2.18895730e-03,\n",
              "        -8.38974491e-03, -6.15619868e-03, -4.26335866e-03,\n",
              "         5.42076258e-03,  6.04793802e-03,  1.02310407e-03,\n",
              "         8.48336052e-03,  1.28133222e-02, -7.58195668e-03,\n",
              "         4.35629860e-04, -4.69516171e-03, -3.71954549e-04,\n",
              "         3.08300019e-03, -3.52252997e-03,  5.07271243e-03,\n",
              "        -4.98825172e-03,  1.07485999e-03,  2.87620188e-03,\n",
              "        -8.40318948e-03,  2.37430376e-03,  7.23465392e-03,\n",
              "         3.82575835e-03,  7.81557616e-03, -5.67460060e-03,\n",
              "         7.10992841e-03,  5.95774269e-03,  8.05741176e-04,\n",
              "        -2.78132129e-03],\n",
              "       [-1.10865978e-03,  1.08714253e-02, -5.53389266e-03,\n",
              "        -2.00305879e-03,  4.01307829e-03, -5.32331178e-03,\n",
              "         7.08053587e-03, -1.18371025e-02, -9.15098097e-03,\n",
              "         7.02882744e-03,  7.14971498e-03,  6.77831424e-03,\n",
              "        -1.59740692e-03,  5.76818362e-03, -6.24474278e-03,\n",
              "         8.60282872e-03,  3.49084730e-03,  3.94627731e-03,\n",
              "        -1.69226993e-03, -4.25440259e-03,  4.90028970e-03,\n",
              "         5.40818414e-03,  5.64840576e-03, -2.67490582e-03,\n",
              "         1.43880816e-03, -1.48334738e-03,  3.08504305e-03,\n",
              "        -7.60224939e-04,  1.19350897e-02, -1.89974718e-03,\n",
              "        -3.20306490e-03, -4.92480025e-03, -4.41989134e-04,\n",
              "         7.19625270e-03, -9.55857802e-03,  7.43450085e-03,\n",
              "         2.63115694e-03, -1.00853364e-03,  3.60753457e-03,\n",
              "        -7.54732813e-04, -5.03692485e-04, -2.72439956e-03,\n",
              "        -5.29322168e-03, -2.33453861e-03, -2.12441757e-03,\n",
              "        -8.57409686e-05,  3.29496711e-03, -9.53198120e-04,\n",
              "        -5.92304999e-03, -3.17073311e-03,  6.56187534e-03,\n",
              "         6.47377828e-06, -2.60719261e-03,  4.27059783e-03,\n",
              "        -6.20138273e-03, -1.03421258e-02,  5.20396279e-03,\n",
              "         2.73358449e-03, -4.83153708e-04, -1.55680662e-03,\n",
              "        -6.29845774e-03,  1.63860770e-03, -1.13607990e-02,\n",
              "        -7.55850039e-03]], dtype=float32)"
            ]
          },
          "metadata": {},
          "execution_count": 53
        }
      ]
    },
    {
      "cell_type": "code",
      "source": [
        "pred.shape"
      ],
      "metadata": {
        "colab": {
          "base_uri": "https://localhost:8080/"
        },
        "id": "g3fbpp002XK_",
        "outputId": "5f8ecd9f-5813-4648-e61d-0fbd9f1777c8"
      },
      "execution_count": 54,
      "outputs": [
        {
          "output_type": "execute_result",
          "data": {
            "text/plain": [
              "(2, 64)"
            ]
          },
          "metadata": {},
          "execution_count": 54
        }
      ]
    },
    {
      "cell_type": "markdown",
      "source": [
        "**Saving the model**"
      ],
      "metadata": {
        "id": "nZ6rabXBOuSh"
      }
    },
    {
      "cell_type": "code",
      "source": [
        "model.save('anoop.keras')"
      ],
      "metadata": {
        "id": "C-R17sYnKGzD"
      },
      "execution_count": 55,
      "outputs": []
    },
    {
      "cell_type": "markdown",
      "source": [
        "**Loading the saved model**"
      ],
      "metadata": {
        "id": "YbnsknTsO3UT"
      }
    },
    {
      "cell_type": "code",
      "source": [
        "model1=tf.keras.models.load_model('anoop.keras')"
      ],
      "metadata": {
        "colab": {
          "base_uri": "https://localhost:8080/"
        },
        "id": "QlIjsN0bKG2u",
        "outputId": "8c697cba-02ac-4925-f9f0-7dad62fd3153"
      },
      "execution_count": 57,
      "outputs": [
        {
          "output_type": "stream",
          "name": "stderr",
          "text": [
            "WARNING:absl:Skipping variable loading for optimizer 'Adam', because it has 7 variables whereas the saved optimizer has 1 variables. \n"
          ]
        }
      ]
    },
    {
      "cell_type": "code",
      "source": [
        "model1.predict(text)"
      ],
      "metadata": {
        "colab": {
          "base_uri": "https://localhost:8080/"
        },
        "id": "Do2ijykYKd1k",
        "outputId": "6563368f-1b14-4665-b04f-9419e2f9e9af"
      },
      "execution_count": null,
      "outputs": [
        {
          "output_type": "stream",
          "name": "stdout",
          "text": [
            "1/1 [==============================] - 0s 65ms/step\n"
          ]
        },
        {
          "output_type": "execute_result",
          "data": {
            "text/plain": [
              "array([[-7.17547082e-04, -2.11744453e-03, -2.55411584e-03,\n",
              "         2.38280930e-03, -5.57656819e-03,  2.96368566e-03,\n",
              "        -5.80826018e-04,  2.93328636e-03, -2.89438316e-03,\n",
              "         4.98660607e-03, -8.75625468e-04,  3.40516237e-03,\n",
              "        -1.47768098e-03,  6.45941542e-03,  9.44783620e-04,\n",
              "         3.40556115e-04, -1.58469379e-03,  4.08577081e-03,\n",
              "        -2.44306237e-03,  5.22705400e-03, -5.21561829e-03,\n",
              "        -6.03056338e-04, -1.47436594e-03, -2.13419087e-04,\n",
              "        -2.77724955e-03,  4.40655043e-04, -5.82949317e-04,\n",
              "        -3.03099491e-03,  5.21902752e-04,  3.81007348e-03,\n",
              "         2.64187600e-03,  5.40415524e-03, -7.78996060e-03,\n",
              "         1.74167028e-04, -5.03765000e-03, -3.26164183e-03,\n",
              "         2.65483023e-03, -3.02560441e-03,  3.41647002e-03,\n",
              "         1.13724626e-03,  3.47029418e-03, -5.16389904e-04,\n",
              "        -3.81181086e-03,  3.81590944e-04, -2.04070355e-03,\n",
              "        -1.35912455e-03,  3.00821383e-03,  2.26932322e-03,\n",
              "        -3.63340043e-03,  1.79494964e-03,  1.33584661e-03,\n",
              "         1.04703160e-03,  3.18355538e-04, -3.03513440e-03,\n",
              "         1.79149781e-03,  1.05792098e-03, -4.45433659e-03,\n",
              "        -1.35119120e-03,  5.46702044e-03,  5.65916591e-04,\n",
              "        -2.22409028e-03,  3.64723173e-03,  3.45484703e-03,\n",
              "         4.56105918e-05],\n",
              "       [-9.23485775e-03,  1.89840049e-03,  6.70367805e-03,\n",
              "         2.85566226e-03,  7.63785653e-03, -6.89986907e-03,\n",
              "         5.77462325e-03, -7.57749891e-03,  1.56721752e-02,\n",
              "        -8.51105247e-03, -8.14148411e-03, -1.67620063e-04,\n",
              "         1.37444434e-03,  1.07231457e-03,  4.90655517e-03,\n",
              "         1.49505667e-03, -7.49954209e-03, -1.17309848e-02,\n",
              "         3.52143403e-03, -4.84853936e-03,  1.04555748e-02,\n",
              "        -6.45032525e-03,  5.58779528e-03, -5.18336473e-03,\n",
              "         9.52058379e-03,  1.27524335e-03, -1.01546869e-02,\n",
              "         7.65604479e-03,  2.05230273e-04, -7.02611171e-03,\n",
              "        -8.43895774e-04, -1.01971684e-03,  2.30328669e-03,\n",
              "         3.70658864e-03,  1.10721765e-02,  2.04565749e-03,\n",
              "         9.10657167e-04, -2.45966949e-05, -1.58458168e-03,\n",
              "        -6.25767512e-03,  7.24673097e-04, -4.40717376e-05,\n",
              "         2.92495638e-03, -6.04565209e-03,  1.30254626e-02,\n",
              "         2.38814880e-03,  4.94435942e-03, -8.39969330e-03,\n",
              "        -2.34699529e-03, -1.20172305e-02,  3.81857902e-03,\n",
              "        -5.45782084e-03, -1.75633107e-03, -4.32605110e-03,\n",
              "        -1.45595446e-02,  1.11931609e-02,  8.00810847e-03,\n",
              "         3.52774723e-03, -8.50998238e-03, -1.28040155e-02,\n",
              "         7.44921109e-03, -5.72684547e-03, -8.32995493e-03,\n",
              "         1.58134103e-03]], dtype=float32)"
            ]
          },
          "metadata": {},
          "execution_count": 112
        }
      ]
    },
    {
      "cell_type": "markdown",
      "source": [
        "There are many other pre-trained text embeddings from TFHub that can be used in this tutorial:\n",
        "\n",
        "google/nnlm-en-dim128/2 - trained with the same NNLM architecture on the same data as google/nnlm-en-dim50/2, but with a larger embedding dimension. Larger dimensional embeddings can improve on your task but it may take longer to train your model.\n",
        "google/nnlm-en-dim128-with-normalization/2 - the same as google/nnlm-en-dim128/2, but with additional text normalization such as removing punctuation. This can help if the text in your task contains additional characters or punctuation.\n",
        "google/universal-sentence-encoder/4 - a much larger model yielding 512 dimensional embeddings trained with a deep averaging network (DAN) encoder.\n",
        "And many more! Find more text embedding models on TFHub.\n",
        "\n",
        "Let's first create a Keras layer that uses a TensorFlow Hub model to embed the sentences, and try it out on a couple of input examples. Note that no matter the length of the input text, the output shape of the embeddings is: (num_examples, embedding_dimension).\n",
        "\n",
        "With preloaded embedding layers u dont have to preprocess text\n"
      ],
      "metadata": {
        "id": "vvgbbX37OmsN"
      }
    },
    {
      "cell_type": "code",
      "source": [
        "import tensorflow_hub as hub\n",
        "embedding = \"https://tfhub.dev/google/nnlm-en-dim50/2\"\n",
        "hub_layer = hub.KerasLayer(embedding, input_shape=[],\n",
        "                           dtype=tf.string, trainable=True)"
      ],
      "metadata": {
        "id": "6376qjPJMvti"
      },
      "execution_count": null,
      "outputs": []
    },
    {
      "cell_type": "code",
      "source": [
        "model2=Sequential()\n",
        "model2.add(hub_layer)\n"
      ],
      "metadata": {
        "id": "gKE3bEDlNalh"
      },
      "execution_count": null,
      "outputs": []
    },
    {
      "cell_type": "code",
      "source": [
        "model2.predict(text)"
      ],
      "metadata": {
        "colab": {
          "base_uri": "https://localhost:8080/"
        },
        "id": "mSLcpuI-N3GY",
        "outputId": "8ffa2c9c-40ee-4137-cd9d-2b7e4858c45e"
      },
      "execution_count": null,
      "outputs": [
        {
          "output_type": "stream",
          "name": "stdout",
          "text": [
            "1/1 [==============================] - 0s 50ms/step\n"
          ]
        },
        {
          "output_type": "execute_result",
          "data": {
            "text/plain": [
              "array([[ 0.16158575,  0.03487716,  0.04701673,  0.26000825,  0.11360174,\n",
              "        -0.05174125, -0.02798709, -0.3440884 , -0.0166243 , -0.17252597,\n",
              "         0.2915599 ,  0.0504854 ,  0.16284578, -0.20347922,  0.03978457,\n",
              "        -0.02678947,  0.06873696, -0.05014047, -0.14492953, -0.2781547 ,\n",
              "        -0.29362342, -0.08327091,  0.08857469, -0.09184322, -0.22503239,\n",
              "        -0.03789838, -0.00526696, -0.3014082 ,  0.17550017, -0.09049083,\n",
              "        -0.00784622,  0.10334724,  0.03452793,  0.041433  , -0.03380363,\n",
              "         0.04795556,  0.16658159,  0.01602894, -0.17990495, -0.03481016,\n",
              "         0.23810524,  0.08191874, -0.14780585, -0.074142  ,  0.04400147,\n",
              "         0.10603544, -0.24475896, -0.09352271,  0.10226095,  0.13133794],\n",
              "       [ 0.15819348, -0.10955666, -0.17832954, -0.07462916,  0.21725678,\n",
              "        -0.11359747,  0.25439048,  0.00842642, -0.13804607,  0.1250199 ,\n",
              "        -0.00525587,  0.15726002,  0.00819244,  0.11809565, -0.00574656,\n",
              "        -0.131393  , -0.11280521, -0.08900156, -0.20776618, -0.19244213,\n",
              "         0.08452627, -0.03617561, -0.2023324 ,  0.01503582, -0.24066046,\n",
              "         0.29048213, -0.03193154, -0.34800547, -0.03644202,  0.06801943,\n",
              "        -0.08566625,  0.1536293 , -0.05228955,  0.02682181, -0.19458929,\n",
              "         0.25006405,  0.02331285,  0.17634138,  0.13192162,  0.05287313,\n",
              "         0.0886069 , -0.06141649, -0.08408437,  0.15806387, -0.31226617,\n",
              "         0.08447602,  0.082578  , -0.16672696, -0.05390769, -0.03349427]],\n",
              "      dtype=float32)"
            ]
          },
          "metadata": {},
          "execution_count": 123
        }
      ]
    },
    {
      "cell_type": "code",
      "source": [
        "model5.predict(text)"
      ],
      "metadata": {
        "colab": {
          "base_uri": "https://localhost:8080/"
        },
        "id": "KYSOUEKs0mA6",
        "outputId": "98d78236-06e6-4361-a184-fe6e30dbc0d7"
      },
      "execution_count": 47,
      "outputs": [
        {
          "output_type": "stream",
          "name": "stdout",
          "text": [
            "1/1 [==============================] - 0s 166ms/step\n"
          ]
        },
        {
          "output_type": "execute_result",
          "data": {
            "text/plain": [
              "array([[1, 3, 4, 0, 0],\n",
              "       [1, 6, 7, 8, 9]])"
            ]
          },
          "metadata": {},
          "execution_count": 47
        }
      ]
    }
  ]
}